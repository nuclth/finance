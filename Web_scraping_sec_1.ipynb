{
 "cells": [
  {
   "cell_type": "markdown",
   "metadata": {},
   "source": [
    "Functions to get the individual filings for a given company, defined by the CIK (Central Index Key) number"
   ]
  },
  {
   "cell_type": "code",
   "execution_count": 82,
   "metadata": {},
   "outputs": [],
   "source": [
    "# import our libraries\n",
    "import os\n",
    "import requests\n",
    "import pandas as pd\n",
    "import datetime\n",
    "from bs4 import BeautifulSoup\n"
   ]
  },
  {
   "cell_type": "code",
   "execution_count": 123,
   "metadata": {},
   "outputs": [],
   "source": [
    "def get_cik_number(ticker):\n",
    "    cik_num = '886982'\n",
    "    return cik_num\n",
    "\n",
    "def get_filings_url(base_url, cik_num):\n",
    "    filings_url = os.path.join(base_url, cik_num, 'index.json')\n",
    "    return filings_url\n",
    "\n",
    "def get_filing_url(base_url, cik_num, filing_number):\n",
    "    filing_url = os.path.join(base_url, cik_num, filing_number, 'index.json')\n",
    "    return filing_url\n",
    "\n",
    "def get_document_url(base_url, cik_num, filing_number, document_name):\n",
    "    document_url = os.path.join(base_url, cik_num, filing_number, document_name, 'index.json')\n",
    "    return document_url    \n",
    "\n",
    "def get_datetime(datetime_str):\n",
    "    datetime_obj = datetime.datetime.strptime(datetime_str, '%Y-%m-%d %H:%M:%S')\n",
    "    return datetime_obj\n",
    "\n",
    "def get_entries_between_times(subcontent, time_start = datetime.datetime.now() - datetime.timedelta(days=30), time_end = datetime.datetime.now()):\n",
    "    \n",
    "    matching_entries = []\n",
    "    \n",
    "    for entry in subcontent:\n",
    "        \n",
    "        datetime_str = entry['last-modified']\n",
    "        datetime_obj = get_datetime(datetime_str)\n",
    "        \n",
    "        if datetime_obj > time_start and datetime_obj < time_end:\n",
    "            matching_entries.append(entry)\n",
    "            \n",
    "    return matching_entries\n",
    "\n",
    "def purge_image_entries(subcontent):\n",
    "    \n",
    "    valid_entries = []\n",
    "    \n",
    "    for entry in subcontent:\n",
    "        \n",
    "        if 'image2.gif' not in entry['type']:\n",
    "            valid_entries.append(entry)\n",
    "            \n",
    "    return valid_entries"
   ]
  },
  {
   "cell_type": "code",
   "execution_count": 1,
   "metadata": {},
   "outputs": [],
   "source": [
    "\n",
    "\n",
    "# define the base url needed to create the file url.\n",
    "base_url = r\"https://www.sec.gov/Archives/edgar/data\"\n",
    "\n",
    "cik_num = get_cik_number\n",
    "\n",
    "filings_url = get_filings_url(base_url, cik_num)\n",
    "\n",
    "content = requests.get(filings_url)\n",
    "decoded_content = content.json()\n"
   ]
  },
  {
   "cell_type": "code",
   "execution_count": 8,
   "metadata": {},
   "outputs": [],
   "source": [
    "subcontent = decoded_content['directory']['item']"
   ]
  },
  {
   "cell_type": "code",
   "execution_count": 78,
   "metadata": {},
   "outputs": [],
   "source": [
    "test = subcontent[0]['name']"
   ]
  },
  {
   "cell_type": "code",
   "execution_count": 98,
   "metadata": {},
   "outputs": [],
   "source": [
    "filing_url = get_filing_url(base_url, cik_num, test)"
   ]
  },
  {
   "cell_type": "code",
   "execution_count": 99,
   "metadata": {},
   "outputs": [],
   "source": [
    "filing_content = requests.get(filing_url)\n",
    "decoded_filing_content = filing_content.json()"
   ]
  },
  {
   "cell_type": "code",
   "execution_count": 101,
   "metadata": {},
   "outputs": [],
   "source": [
    "decoded_filing_content\n",
    "sub_filing_content = decoded_filing_content['directory']['item']"
   ]
  },
  {
   "cell_type": "code",
   "execution_count": 121,
   "metadata": {},
   "outputs": [],
   "source": [
    "a = purge_image_entries(sub_filing_content)"
   ]
  },
  {
   "cell_type": "code",
   "execution_count": 128,
   "metadata": {},
   "outputs": [
    {
     "data": {
      "text/plain": [
       "{'last-modified': '1998-08-24 00:00:00',\n",
       " 'name': '000095012398007892',\n",
       " 'type': 'folder.gif',\n",
       " 'size': ''}"
      ]
     },
     "execution_count": 128,
     "metadata": {},
     "output_type": "execute_result"
    }
   ],
   "source": [
    "subcontent[-1]"
   ]
  },
  {
   "cell_type": "code",
   "execution_count": 109,
   "metadata": {},
   "outputs": [
    {
     "data": {
      "text/plain": [
       "[]"
      ]
     },
     "execution_count": 109,
     "metadata": {},
     "output_type": "execute_result"
    }
   ],
   "source": [
    "a = get"
   ]
  },
  {
   "cell_type": "code",
   "execution_count": 35,
   "metadata": {},
   "outputs": [
    {
     "data": {
      "text/plain": [
       "[{'last-modified': '2020-04-21 18:36:19',\n",
       "  'name': '000156459020017734',\n",
       "  'type': 'folder.gif',\n",
       "  'size': ''}]"
      ]
     },
     "execution_count": 35,
     "metadata": {},
     "output_type": "execute_result"
    }
   ],
   "source": [
    "q"
   ]
  },
  {
   "cell_type": "code",
   "execution_count": 36,
   "metadata": {},
   "outputs": [],
   "source": [
    "q.append(subcontent[1])"
   ]
  },
  {
   "cell_type": "code",
   "execution_count": 38,
   "metadata": {},
   "outputs": [],
   "source": [
    "q = datetime.datetime.now() - datetime.timedelta(days=30)"
   ]
  },
  {
   "cell_type": "code",
   "execution_count": 91,
   "metadata": {},
   "outputs": [
    {
     "data": {
      "text/plain": [
       "'https://www.sec.gov/Archives/edgar/data/886982'"
      ]
     },
     "execution_count": 91,
     "metadata": {},
     "output_type": "execute_result"
    }
   ],
   "source": [
    "os.path.join(base_url, '886982')"
   ]
  },
  {
   "cell_type": "code",
   "execution_count": 84,
   "metadata": {},
   "outputs": [
    {
     "data": {
      "text/plain": [
       "'https://www.sec.gov/Archives/edgar/data'"
      ]
     },
     "execution_count": 84,
     "metadata": {},
     "output_type": "execute_result"
    }
   ],
   "source": [
    "base_url"
   ]
  },
  {
   "cell_type": "code",
   "execution_count": 67,
   "metadata": {},
   "outputs": [],
   "source": [
    "a = get_entries_between_times(subcontent, time_start=datetime.datetime(year=2019,month=1,day=1))"
   ]
  },
  {
   "cell_type": "code",
   "execution_count": 51,
   "metadata": {},
   "outputs": [
    {
     "data": {
      "text/plain": [
       "True"
      ]
     },
     "execution_count": 51,
     "metadata": {},
     "output_type": "execute_result"
    }
   ],
   "source": [
    "'.gif' in a[0]['type']"
   ]
  },
  {
   "cell_type": "code",
   "execution_count": 68,
   "metadata": {},
   "outputs": [],
   "source": [
    "b = purge_image_entries(a)"
   ]
  },
  {
   "cell_type": "code",
   "execution_count": 62,
   "metadata": {},
   "outputs": [
    {
     "data": {
      "text/plain": [
       "datetime.datetime(2020, 1, 1, 0, 0)"
      ]
     },
     "execution_count": 62,
     "metadata": {},
     "output_type": "execute_result"
    }
   ],
   "source": [
    "datetime.datetime(year=2019,month=1,day=1)"
   ]
  },
  {
   "cell_type": "code",
   "execution_count": 69,
   "metadata": {},
   "outputs": [
    {
     "data": {
      "text/plain": [
       "[]"
      ]
     },
     "execution_count": 69,
     "metadata": {},
     "output_type": "execute_result"
    }
   ],
   "source": [
    "b"
   ]
  },
  {
   "cell_type": "code",
   "execution_count": 75,
   "metadata": {},
   "outputs": [
    {
     "data": {
      "text/plain": [
       "{'last-modified': '2019-01-02 11:04:24',\n",
       " 'name': '000114036119000032',\n",
       " 'type': 'folder.gif',\n",
       " 'size': ''}"
      ]
     },
     "execution_count": 75,
     "metadata": {},
     "output_type": "execute_result"
    }
   ],
   "source": [
    "a[6325]"
   ]
  },
  {
   "cell_type": "code",
   "execution_count": null,
   "metadata": {},
   "outputs": [],
   "source": []
  }
 ],
 "metadata": {
  "kernelspec": {
   "display_name": "Python 3",
   "language": "python",
   "name": "python3"
  },
  "language_info": {
   "codemirror_mode": {
    "name": "ipython",
    "version": 3
   },
   "file_extension": ".py",
   "mimetype": "text/x-python",
   "name": "python",
   "nbconvert_exporter": "python",
   "pygments_lexer": "ipython3",
   "version": "3.6.5"
  }
 },
 "nbformat": 4,
 "nbformat_minor": 2
}
